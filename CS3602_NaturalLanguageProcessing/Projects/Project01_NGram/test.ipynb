{
 "cells": [
  {
   "cell_type": "code",
   "execution_count": 1,
   "metadata": {},
   "outputs": [
    {
     "name": "stderr",
     "output_type": "stream",
     "text": [
      "[nltk_data] Downloading package stopwords to\n",
      "[nltk_data]     C:\\Users\\YBR10\\AppData\\Roaming\\nltk_data...\n",
      "[nltk_data]   Package stopwords is already up-to-date!\n"
     ]
    }
   ],
   "source": [
    "import os\n",
    "import nltk\n",
    "from nltk.corpus import stopwords\n",
    "\n",
    "nltk.download('stopwords')\n",
    "stop_words = set(stopwords.words('english'))\n",
    "dataset_path = './hw1_dataset'\n",
    "with open(os.path.join(dataset_path, 'train_set.txt')) as f:\n",
    "    train_set = f.read(-1).lower()"
   ]
  },
  {
   "cell_type": "code",
   "execution_count": 3,
   "metadata": {},
   "outputs": [
    {
     "name": "stderr",
     "output_type": "stream",
     "text": [
      "[nltk_data] Downloading package punkt to\n",
      "[nltk_data]     C:\\Users\\YBR10\\AppData\\Roaming\\nltk_data...\n",
      "[nltk_data]   Package punkt is already up-to-date!\n"
     ]
    }
   ],
   "source": [
    "nltk.download('punkt')\n",
    "tokens = nltk.word_tokenize(train_set)\n",
    "# tokens = [t for t in tokens if not t in stop_words]\n",
    "tokens = ['<s>'] + tokens + ['</s>']"
   ]
  },
  {
   "cell_type": "code",
   "execution_count": 21,
   "metadata": {},
   "outputs": [],
   "source": [
    "from collections import Counter\n",
    "full_vocabulary = Counter(tokens)\n",
    "uni_vocabulary_full = sorted(uni_vocabulary_full.items(), key= lambda x: x[1], reverse=True)"
   ]
  },
  {
   "cell_type": "code",
   "execution_count": 22,
   "metadata": {},
   "outputs": [],
   "source": [
    "threshold = 100"
   ]
  },
  {
   "cell_type": "code",
   "execution_count": 23,
   "metadata": {},
   "outputs": [],
   "source": [
    "uni_vocabulary = {}\n",
    "oov = set([])\n",
    "UNK = '<unk>'\n",
    "uni_vocabulary[UNK] = 0\n",
    "\n",
    "for i, v in enumerate(uni_vocabulary_full):\n",
    "    if i <= selected:\n",
    "        uni_vocabulary[v[0]] = v[1]\n",
    "    else:\n",
    "        uni_vocabulary[UNK] = uni_vocabulary[UNK] + v[1]\n",
    "        oov.add(v[0])"
   ]
  },
  {
   "cell_type": "code",
   "execution_count": 35,
   "metadata": {},
   "outputs": [
    {
     "name": "stdout",
     "output_type": "stream",
     "text": [
      "('mehringer', 4)\n"
     ]
    }
   ],
   "source": [
    "# unigram\n",
    "unigram_freq = {}\n",
    "vocabulary_size = sum(uni_vocabulary.values())\n",
    "for v in uni_vocabulary.keys():\n",
    "    unigram_freq[v] = uni_vocabulary[v] / vocabulary_size"
   ]
  },
  {
   "cell_type": "code",
   "execution_count": 19,
   "metadata": {},
   "outputs": [
    {
     "name": "stdout",
     "output_type": "stream",
     "text": [
      "<s> anarchism\n"
     ]
    }
   ],
   "source": [
    "# bigram\n",
    "# construct bigram vocabulary\n",
    "for i in range(len(tokens)-1):\n",
    "    history = UNK if tokens[i] in oov else tokens[i]\n",
    "    current = UNK if tokens[i+1] in oov else tokens[i+1]\n",
    "    current_bigram = ' '.join([history, current])"
   ]
  }
 ],
 "metadata": {
  "interpreter": {
   "hash": "07efdcd4b820c98a756949507a4d29d7862823915ec7477944641bea022f4f62"
  },
  "kernelspec": {
   "display_name": "Python 3.8.5 64-bit ('base': conda)",
   "name": "python3"
  },
  "language_info": {
   "codemirror_mode": {
    "name": "ipython",
    "version": 3
   },
   "file_extension": ".py",
   "mimetype": "text/x-python",
   "name": "python",
   "nbconvert_exporter": "python",
   "pygments_lexer": "ipython3",
   "version": "3.8.5"
  },
  "orig_nbformat": 4
 },
 "nbformat": 4,
 "nbformat_minor": 2
}
