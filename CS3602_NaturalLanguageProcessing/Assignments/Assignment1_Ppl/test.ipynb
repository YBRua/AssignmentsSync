{
 "cells": [
  {
   "cell_type": "code",
   "execution_count": 2,
   "metadata": {},
   "outputs": [],
   "source": [
    "class TriGram():\n",
    "    def __init__(self, path):\n",
    "        self.unigram = {}\n",
    "        self.uni_bow = {}\n",
    "        self.bigram = {}\n",
    "        self.bi_bow = {}\n",
    "        self.trigram = {}\n",
    "        self.n_gram = 0\n",
    "\n",
    "    def _parse_arpa_from_path(self, path):\n",
    "        with open(path, 'r') as arpa:\n",
    "            file = arpa.readlines()\n"
   ]
  },
  {
   "cell_type": "code",
   "execution_count": 6,
   "metadata": {},
   "outputs": [
    {
     "name": "stdout",
     "output_type": "stream",
     "text": [
      "1 12\n",
      "2 70\n",
      "3 14\n",
      "1-grams\n",
      "('0',)\n",
      "('1',)\n",
      "('2',)\n",
      "('3',)\n",
      "('4',)\n",
      "('5',)\n",
      "('6',)\n",
      "('7',)\n",
      "('8',)\n",
      "('9',)\n",
      "('</s>',)\n",
      "('<s>',)\n",
      "2-grams\n",
      "('0', '2')\n",
      "('0', '3')\n",
      "('0', '9')\n",
      "('0', '</s>')\n",
      "('1', '0')\n",
      "('1', '7')\n",
      "('1', '9')\n",
      "('1', '</s>')\n",
      "('2', '3')\n",
      "('2', '</s>')\n",
      "('3', '0')\n",
      "('3', '4')\n",
      "('3', '5')\n",
      "('3', '6')\n",
      "('3', '7')\n",
      "('3', '8')\n",
      "('3', '</s>')\n",
      "('4', '0')\n",
      "('4', '1')\n",
      "('4', '2')\n",
      "('4', '3')\n",
      "('4', '4')\n",
      "('4', '5')\n",
      "('4', '6')\n",
      "('4', '7')\n",
      "('4', '8')\n",
      "('4', '9')\n",
      "('4', '</s>')\n",
      "('5', '0')\n",
      "('5', '1')\n",
      "('5', '2')\n",
      "('5', '3')\n",
      "('5', '4')\n",
      "('5', '5')\n",
      "('5', '6')\n",
      "('5', '7')\n",
      "('5', '8')\n",
      "('5', '9')\n",
      "('5', '</s>')\n",
      "('6', '0')\n",
      "('6', '1')\n",
      "('6', '2')\n",
      "('6', '3')\n",
      "('6', '5')\n",
      "('6', '6')\n",
      "('6', '7')\n",
      "('6', '8')\n",
      "('6', '9')\n",
      "('6', '</s>')\n",
      "('7', '0')\n",
      "('7', '1')\n",
      "('7', '2')\n",
      "('7', '3')\n",
      "('7', '4')\n",
      "('7', '5')\n",
      "('7', '6')\n",
      "('7', '7')\n",
      "('7', '8')\n",
      "('7', '9')\n",
      "('7', '</s>')\n",
      "('8', '0')\n",
      "('8', '1')\n",
      "('8', '2')\n",
      "('8', '3')\n",
      "('8', '4')\n",
      "('8', '</s>')\n",
      "('9', '0')\n",
      "('9', '1')\n",
      "('9', '</s>')\n",
      "('<s>', '5')\n",
      "3-grams\n",
      "('1', '0', '3')\n",
      "('3', '0', '9')\n",
      "('9', '0', '3')\n",
      "('5', '1', '9')\n",
      "('9', '1', '0')\n",
      "('0', '3', '0')\n",
      "('0', '3', '4')\n",
      "('0', '3', '5')\n",
      "('0', '3', '6')\n",
      "('0', '3', '7')\n",
      "('0', '3', '8')\n",
      "('<s>', '5', '1')\n",
      "('0', '9', '1')\n",
      "('1', '9', '0')\n"
     ]
    }
   ],
   "source": [
    "import re\n",
    "\n",
    "path = './models/cs3602_1.arpa'\n",
    "\n",
    "ngram_entries = {}\n",
    "ngram_defs = {}\n",
    "ngram_bows = {}\n",
    "\n",
    "with open(path, 'r') as arpa:\n",
    "    lines = [l.strip() for l in arpa.readlines()]\n",
    "    line_pointer = 0\n",
    "    for line_pointer in range(len(lines)):\n",
    "        if lines[line_pointer] == '':\n",
    "            continue\n",
    "        elif lines[line_pointer] == '\\\\data\\\\' or lines[line_pointer] == '\\\\end\\\\':\n",
    "            continue\n",
    "        elif lines[line_pointer].startswith('ngram'):\n",
    "            # match header\n",
    "            ngram_header = re.findall(r'\\d+', lines[line_pointer])\n",
    "            ngram_header = list(map(int, ngram_header))\n",
    "            order, n_entries = ngram_header\n",
    "            ngram_entries[order] = n_entries\n",
    "            print(order, n_entries)\n",
    "        elif lines[line_pointer].endswith('-grams:'):\n",
    "            order = re.findall(r'\\d+', lines[line_pointer])\n",
    "            order = int(order[0])\n",
    "            print(f'{order}-grams')\n",
    "        else:\n",
    "            ngram_def = lines[line_pointer].split('\\t')\n",
    "            if len(ngram_def) == 3:\n",
    "                log_prob, words, bow = ngram_def\n",
    "            elif len(ngram_def) == 2:\n",
    "                log_prob, words = ngram_def\n",
    "                bow = 0.0\n",
    "            words = tuple(words.split(' '))\n",
    "            ngram_defs[words] = float(log_prob)\n",
    "            ngram_bows[words] = float(bow)\n"
   ]
  },
  {
   "cell_type": "code",
   "execution_count": null,
   "metadata": {},
   "outputs": [],
   "source": []
  },
  {
   "cell_type": "code",
   "execution_count": 3,
   "metadata": {},
   "outputs": [
    {
     "name": "stdout",
     "output_type": "stream",
     "text": [
      "{'0': -0.6210278, '1': -0.7894323, '2': -1.989005, '3': -0.7894323, '4': -1.591065, '5': -0.9963039, '6': -1.653213, '7': -1.591065, '8': -1.812913, '9': -0.7986729, '</s>': -1.113943, '<s>': -99.0, '02': -2.149219, '03': -0.1998291, '09': -0.4960066, '0</s>': -1.450249, '10': -0.3290587, '17': -1.982271, '19': -0.3388186, '1</s>': -1.283301, '23': -0.845098, '2</s>': -0.146128, '30': -0.3290587, '34': -0.9408786, '35': -0.9822713, '36': -1.028029, '37': -0.9822713, '38': -1.283301, '3</s>': -1.283301, '40': -1.176091, '41': -1.176091, '42': -1.176091, '43': -1.176091, '44': -1.176091, '45': -1.176091, '46': -1.176091, '47': -1.176091, '48': -1.176091, '49': -1.176091, '4</s>': -0.4771213, '50': -1.770852, '51': -0.1080942, '52': -1.770852, '53': -1.770852, '54': -1.770852, '55': -1.770852, '56': -1.770852, '57': -1.770852, '58': -1.770852, '59': -1.770852, '5</s>': -1.168792, '60': -1.146128, '61': -1.146128, '62': -1.146128, '63': -1.146128, '65': -1.146128, '66': -1.146128, '67': -1.146128, '68': -1.146128, '69': -1.146128, '6</s>': -0.544068, '70': -0.8750613, '71': -1.176091, '72': -1.176091, '73': -1.176091, '74': -1.176091, '75': -1.176091, '76': -1.176091, '77': -1.176091, '78': -1.176091, '79': -1.176091, '7</s>': -0.5740313, '80': -1.0, '81': -1.0, '82': -1.0, '83': -1.0, '84': -1.0, '8</s>': -0.39794, '90': -0.3296752, '91': -0.3199154, '9</s>': -1.371068, '<s>5': -0.009545318, '103': -0.009759837, '309': -0.009545318, '903': -0.009759837, '519': -0.01930515, '910': -0.009545318, '030': -0.30103, '034': -0.9542425, '035': -0.9542425, '036': -1.0, '037': -0.9542425, '038': -1.255273, '<s>51': -0.009545318, '091': -0.009545318, '190': -0.009759837}\n",
      "{'0': -1.92114, '1': -1.680499, '2': -0.7263023, '3': -1.676013, '4': 0.0, '5': 0.0, '6': 0.4449365, '7': 0.0, '8': -0.509306, '9': -1.690271, '</s>': 0.0, '<s>': -1.616588, '02': 0.0, '03': -0.7501214, '09': -1.379826, '0</s>': 0.0, '10': -1.219997, '17': 0.0, '19': -1.379055, '1</s>': 0.0, '23': 0.0, '2</s>': 0.0, '30': -1.49581, '34': 0.0, '35': 0.0, '36': 0.0, '37': 0.0, '38': 0.0, '3</s>': 0.0, '40': 0.0, '41': 0.0, '42': 0.0, '43': 0.0, '44': 0.0, '45': 0.0, '46': 0.0, '47': 0.0, '48': 0.0, '49': 0.0, '4</s>': 0.0, '50': 0.0, '51': -1.09546, '52': 0.0, '53': 0.0, '54': 0.0, '55': 0.0, '56': 0.0, '57': 0.0, '58': 0.0, '59': 0.0, '5</s>': 0.0, '60': 0.0, '61': 0.0, '62': 0.0, '63': 0.0, '65': 0.0, '66': 0.0, '67': 0.0, '68': 0.0, '69': 0.0, '6</s>': 0.0, '70': 0.0, '71': 0.0, '72': 0.0, '73': 0.0, '74': 0.0, '75': 0.0, '76': 0.0, '77': 0.0, '78': 0.0, '79': 0.0, '7</s>': 0.0, '80': 0.0, '81': 0.0, '82': 0.0, '83': 0.0, '84': 0.0, '8</s>': 0.0, '90': -1.219997, '91': -1.388057, '9</s>': 0.0, '<s>5': -1.005849, '103': 0.0, '309': 0.0, '903': 0.0, '519': 0.0, '910': 0.0, '030': 0.0, '034': 0.0, '035': 0.0, '036': 0.0, '037': 0.0, '038': 0.0, '<s>51': 0.0, '091': 0.0, '190': 0.0}\n"
     ]
    }
   ],
   "source": [
    "\n",
    "print(ngram_defs)\n",
    "print(ngram_bows)\n"
   ]
  },
  {
   "cell_type": "code",
   "execution_count": 8,
   "metadata": {},
   "outputs": [
    {
     "name": "stdout",
     "output_type": "stream",
     "text": [
      "('<s>', '0', '2', '1', '0', '3', '3', '2', '1', '0', '0', '2', '3', '</s>')\n"
     ]
    }
   ],
   "source": [
    "test_string = '021033210023'\n",
    "\n",
    "test_string = ('<s>',) + tuple(test_string) + ('</s>',)\n",
    "print(test_string)"
   ]
  },
  {
   "cell_type": "code",
   "execution_count": 46,
   "metadata": {},
   "outputs": [
    {
     "name": "stdout",
     "output_type": "stream",
     "text": [
      "0 found in lm: -0.6210278\n",
      "02 found in lm: -2.149219\n",
      "1 found in lm: -0.7894323\n",
      "10 found in lm: -0.3290587\n",
      "103 found in lm: -0.009759837\n",
      "3 found in lm: -0.7894323\n",
      "2 found in lm: -1.989005\n",
      "1 found in lm: -0.7894323\n",
      "10 found in lm: -0.3290587\n",
      "0 found in lm: -0.6210278\n",
      "02 found in lm: -2.149219\n",
      "23 found in lm: -0.845098\n",
      "3</s> found in lm: -1.283301\n"
     ]
    }
   ],
   "source": [
    "log_probs = []\n",
    "\n",
    "def compute_log_probability(order, words):\n",
    "    if order == 1:\n",
    "        words = ''.join(words)\n",
    "        print(f'{words} found in lm: {ngram_defs[words]}')\n",
    "        return ngram_defs[words]\n",
    "    if ''.join(words) in ngram_defs:\n",
    "        words = ''.join(words)\n",
    "        print(f'{words} found in lm: {ngram_defs[words]}')\n",
    "        return ngram_defs[words]\n",
    "    elif ''.join(words[:-1]) in ngram_bows:\n",
    "        return ngram_bows[''.join(words[:-1])] + compute_log_probability(order - 1, words[1:])\n",
    "    else:\n",
    "        return compute_log_probability(order - 1, words[1:])\n",
    "\n",
    "first = ('<s>',)\n",
    "second = ('<s>', test_string[1])\n",
    "\n",
    "# log_probs.append(compute_log_probability(1, first))\n",
    "log_probs.append(compute_log_probability(2, second))\n",
    "\n",
    "for i in range(0, len(test_string)-2):\n",
    "    log_probs.append(compute_log_probability(3, test_string[i: i+3]))\n"
   ]
  },
  {
   "cell_type": "code",
   "execution_count": 47,
   "metadata": {},
   "outputs": [
    {
     "name": "stdout",
     "output_type": "stream",
     "text": [
      "58.848380854498984\n"
     ]
    }
   ],
   "source": [
    "import numpy as np\n",
    "\n",
    "log_probs = np.array(log_probs)\n",
    "exponential = - np.mean(log_probs)\n",
    "ppl = 10 ** exponential\n",
    "print(ppl)\n"
   ]
  },
  {
   "cell_type": "code",
   "execution_count": 37,
   "metadata": {},
   "outputs": [
    {
     "name": "stdout",
     "output_type": "stream",
     "text": [
      "58.848392301463726\n"
     ]
    }
   ],
   "source": [
    "import kenlm\n",
    "\n",
    "m = kenlm.Model(path)\n",
    "print(m.perplexity('0 2 1 0 3 3 2 1 0 0 2 3'))"
   ]
  }
 ],
 "metadata": {
  "interpreter": {
   "hash": "07efdcd4b820c98a756949507a4d29d7862823915ec7477944641bea022f4f62"
  },
  "kernelspec": {
   "display_name": "Python 3.8.5 64-bit ('base': conda)",
   "name": "python3"
  },
  "language_info": {
   "codemirror_mode": {
    "name": "ipython",
    "version": 3
   },
   "file_extension": ".py",
   "mimetype": "text/x-python",
   "name": "python",
   "nbconvert_exporter": "python",
   "pygments_lexer": "ipython3",
   "version": "3.8.5"
  },
  "orig_nbformat": 4
 },
 "nbformat": 4,
 "nbformat_minor": 2
}
