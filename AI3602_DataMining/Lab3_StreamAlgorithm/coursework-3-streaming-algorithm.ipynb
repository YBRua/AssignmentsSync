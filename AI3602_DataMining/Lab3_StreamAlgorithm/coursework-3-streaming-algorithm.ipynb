{
 "cells": [
  {
   "cell_type": "markdown",
   "metadata": {
    "papermill": {
     "duration": 0.016754,
     "end_time": "2021-12-07T06:01:59.224530",
     "exception": false,
     "start_time": "2021-12-07T06:01:59.207776",
     "status": "completed"
    },
    "tags": []
   },
   "source": [
    "# Coursework 3 Streaming Algorithm"
   ]
  },
  {
   "cell_type": "markdown",
   "metadata": {
    "papermill": {
     "duration": 0.017139,
     "end_time": "2021-12-07T06:01:59.258384",
     "exception": false,
     "start_time": "2021-12-07T06:01:59.241245",
     "status": "completed"
    },
    "tags": []
   },
   "source": [
    "## **Task1：DGIM**\n",
    "\n",
    "DGIM is an efficient algorithm in processing large streams. When it's infeasible to store the flowing binary stream, DGIM can estimate the number of 1-bits in the window. In this coding, you're given the stream_data_dgim.txt (binary stream), and you need to implement the DGIM algorithm to count the number of 1-bits. Write code below."
   ]
  },
  {
   "cell_type": "markdown",
   "metadata": {
    "papermill": {
     "duration": 0.019833,
     "end_time": "2021-12-07T06:01:59.296854",
     "exception": false,
     "start_time": "2021-12-07T06:01:59.277021",
     "status": "completed"
    },
    "tags": []
   },
   "source": [
    "### 1. Set the window size to 1000, and count the number of 1-bits in the current window."
   ]
  },
  {
   "cell_type": "code",
   "execution_count": 102,
   "metadata": {
    "execution": {
     "iopub.execute_input": "2021-12-07T06:01:59.338917Z",
     "iopub.status.busy": "2021-12-07T06:01:59.337144Z",
     "iopub.status.idle": "2021-12-07T06:01:59.347546Z",
     "shell.execute_reply": "2021-12-07T06:01:59.348122Z"
    },
    "papermill": {
     "duration": 0.032439,
     "end_time": "2021-12-07T06:01:59.348503",
     "exception": false,
     "start_time": "2021-12-07T06:01:59.316064",
     "status": "completed"
    },
    "tags": []
   },
   "outputs": [
    {
     "name": "stdout",
     "output_type": "stream",
     "text": [
      "1's in the last 1000 bits: 508\n"
     ]
    }
   ],
   "source": [
    "from typing import List, Dict\n",
    "from collections import defaultdict, deque\n",
    "\n",
    "class Bucket():\n",
    "    def __init__(self, time_stamp, order=0):\n",
    "        self.time_stamp = time_stamp\n",
    "        self.order = order  # bucket contains (2 ** order) 1's\n",
    "\n",
    "\n",
    "class DGIM():\n",
    "    def __init__(self, window_size, n_bins=2):\n",
    "        self.window_size = window_size\n",
    "        self.buckets: Dict[int, deque[Bucket]] = defaultdict(deque)\n",
    "        self.ticker = 0\n",
    "        self.n_bins = n_bins\n",
    "\n",
    "    def consume_next(self, item):\n",
    "        assert item == 0 or item == 1, f\"Invalid stream item {item}\"\n",
    "        if item == 1:\n",
    "            self.buckets[0].append(Bucket(self.ticker))\n",
    "            self._update_buckets()\n",
    "        self.ticker += 1\n",
    "\n",
    "    def count_ones(self, bits):\n",
    "        for b in bits:\n",
    "            self.consume_next(b)\n",
    "        return self.query(self.window_size)\n",
    "\n",
    "    def query(self, window_size):\n",
    "        counts = 0\n",
    "        previous_order = 0\n",
    "        for order, bucket_list in self.buckets.items():\n",
    "            for bucket in reversed(bucket_list):  # backward along time\n",
    "                # print(order, bucket.time_stamp)\n",
    "                if self._in_window(bucket.time_stamp, window_size):\n",
    "                    # count 1's in valid window\n",
    "                    counts += 2 ** order\n",
    "                else:\n",
    "                    # early stop if window timed out\n",
    "                    counts -= 2 ** (previous_order - 1)\n",
    "                    return counts\n",
    "                previous_order = order\n",
    "        # remove half of last window\n",
    "        counts -= 2 ** (previous_order - 1)\n",
    "                \n",
    "        return counts\n",
    "        \n",
    "    def _in_window(self, t, window_size):\n",
    "        return self.ticker - t < window_size\n",
    "    \n",
    "    def _update_buckets(self):\n",
    "        order = 0\n",
    "\n",
    "        # merge bins\n",
    "        while order < len(self.buckets.values()):\n",
    "            count = len(self.buckets[order])\n",
    "            if count > self.n_bins:\n",
    "                _ = self.buckets[order].popleft()  # oldest\n",
    "                second = self.buckets[order].popleft()  # second oldest\n",
    "                merged = Bucket(second.time_stamp, order + 1)\n",
    "                self.buckets[order+1].append(merged)\n",
    "            order += 1\n",
    "\n",
    "        # discard outdated windows\n",
    "        order = max(self.buckets.keys())\n",
    "        length = len(self.buckets[order])\n",
    "        idx = 0\n",
    "        while idx < length:\n",
    "            item = self.buckets[order].popleft()\n",
    "            if self._in_window(item.time_stamp, self.window_size):\n",
    "                self.buckets[order].append(item)\n",
    "            idx += 1\n",
    "        if not self.buckets[order]:\n",
    "            # remove empty list of buckets\n",
    "            self.buckets.pop(order)\n",
    "\n",
    "\n",
    "WINDOW_SIZE = 1000\n",
    "solver = DGIM(WINDOW_SIZE, n_bins=2)\n",
    "\n",
    "with open('./stream_data_dgim.txt', 'r') as stream:\n",
    "    bits = stream.read(-1).split('\\t')\n",
    "\n",
    "bits = list(map(int, bits[:-1]))\n",
    "count = solver.count_ones(bits)\n",
    "print(\"1's in the last 1000 bits:\", count)\n",
    "\n"
   ]
  },
  {
   "cell_type": "markdown",
   "metadata": {
    "papermill": {
     "duration": 0.015395,
     "end_time": "2021-12-07T06:01:59.380081",
     "exception": false,
     "start_time": "2021-12-07T06:01:59.364686",
     "status": "completed"
    },
    "tags": []
   },
   "source": [
    "### 2. With the window size 1000, count the number of 1-bits in the last 500 and 200 bits of the bitstream."
   ]
  },
  {
   "cell_type": "code",
   "execution_count": 103,
   "metadata": {
    "execution": {
     "iopub.execute_input": "2021-12-07T06:01:59.417980Z",
     "iopub.status.busy": "2021-12-07T06:01:59.417325Z",
     "iopub.status.idle": "2021-12-07T06:01:59.420744Z",
     "shell.execute_reply": "2021-12-07T06:01:59.421295Z"
    },
    "papermill": {
     "duration": 0.02556,
     "end_time": "2021-12-07T06:01:59.421483",
     "exception": false,
     "start_time": "2021-12-07T06:01:59.395923",
     "status": "completed"
    },
    "tags": []
   },
   "outputs": [
    {
     "name": "stdout",
     "output_type": "stream",
     "text": [
      "1's in the last 500 bits: 220\n",
      "1's in the last 200 bits: 76\n"
     ]
    }
   ],
   "source": [
    "print(\"1's in the last 500 bits:\", solver.query(500))\n",
    "print(\"1's in the last 200 bits:\", solver.query(200))"
   ]
  },
  {
   "cell_type": "markdown",
   "metadata": {
    "papermill": {
     "duration": 0.01553,
     "end_time": "2021-12-07T06:01:59.452974",
     "exception": false,
     "start_time": "2021-12-07T06:01:59.437444",
     "status": "completed"
    },
    "tags": []
   },
   "source": [
    "### 3. Write a function that accurately counts the number of 1-bits in the current window. Caculate the accuracy of your own DGIM algorithm and compare the running time difference."
   ]
  },
  {
   "cell_type": "code",
   "execution_count": 107,
   "metadata": {
    "execution": {
     "iopub.execute_input": "2021-12-07T06:01:59.487896Z",
     "iopub.status.busy": "2021-12-07T06:01:59.487251Z",
     "iopub.status.idle": "2021-12-07T06:01:59.490402Z",
     "shell.execute_reply": "2021-12-07T06:01:59.490914Z"
    },
    "papermill": {
     "duration": 0.022321,
     "end_time": "2021-12-07T06:01:59.491102",
     "exception": false,
     "start_time": "2021-12-07T06:01:59.468781",
     "status": "completed"
    },
    "tags": []
   },
   "outputs": [
    {
     "name": "stdout",
     "output_type": "stream",
     "text": [
      "DGIM query time: 0.0604ms\n",
      "GT query time: 0.0598ms\n",
      "Relative err: 29.923\n"
     ]
    }
   ],
   "source": [
    "import time\n",
    "\n",
    "# DGIM\n",
    "solver = DGIM(WINDOW_SIZE)\n",
    "solver.count_ones(bits)\n",
    "\n",
    "# only compute query time (because the window is too small)\n",
    "time_start = time.perf_counter()\n",
    "res = solver.query(WINDOW_SIZE)\n",
    "time_end = time.perf_counter()\n",
    "time_elapsed = (time_end - time_start) * 1000\n",
    "print(f'DGIM query time: {time_elapsed:.4f}ms')\n",
    "\n",
    "# ground truth\n",
    "time_start = time.perf_counter()\n",
    "gt = sum(bits[-WINDOW_SIZE:])\n",
    "time_end = time.perf_counter()\n",
    "time_elapsed = (time_end - time_start) * 1000\n",
    "print(f'GT query time: {time_elapsed:.4f}ms')\n",
    "\n",
    "# Relative Error\n",
    "err = abs(res - gt) / gt * 100\n",
    "print(f'Relative err: {err:.3f}')"
   ]
  },
  {
   "cell_type": "markdown",
   "metadata": {
    "papermill": {
     "duration": 0.015507,
     "end_time": "2021-12-07T06:01:59.522321",
     "exception": false,
     "start_time": "2021-12-07T06:01:59.506814",
     "status": "completed"
    },
    "tags": []
   },
   "source": [
    "## **Task2: Bloom Filter**\n",
    "\n",
    "A Bloom filter is a space-efficient probabilistic data structure. Here the task is to implement a bloom filter by yourself. "
   ]
  },
  {
   "cell_type": "markdown",
   "metadata": {
    "papermill": {
     "duration": 0.016544,
     "end_time": "2021-12-07T06:01:59.557915",
     "exception": false,
     "start_time": "2021-12-07T06:01:59.541371",
     "status": "completed"
    },
    "tags": []
   },
   "source": [
    "### Data loading:\n",
    "\n",
    "From the NLTK (Natural Language ToolKit) library, we import a large list of English dictionary words, commonly used by the very first spell-checking programs in Unix-like operating systems."
   ]
  },
  {
   "cell_type": "code",
   "execution_count": 110,
   "metadata": {
    "execution": {
     "iopub.execute_input": "2021-12-07T06:01:59.599213Z",
     "iopub.status.busy": "2021-12-07T06:01:59.598428Z",
     "iopub.status.idle": "2021-12-07T06:02:01.538667Z",
     "shell.execute_reply": "2021-12-07T06:02:01.539256Z"
    },
    "papermill": {
     "duration": 1.962095,
     "end_time": "2021-12-07T06:02:01.539496",
     "exception": false,
     "start_time": "2021-12-07T06:01:59.577401",
     "status": "completed"
    },
    "tags": []
   },
   "outputs": [
    {
     "name": "stderr",
     "output_type": "stream",
     "text": [
      "[nltk_data] Downloading package words to\n",
      "[nltk_data]     C:\\Users\\YBR10\\AppData\\Roaming\\nltk_data...\n",
      "[nltk_data]   Package words is already up-to-date!\n"
     ]
    }
   ],
   "source": [
    "import nltk\n",
    "from nltk.corpus import words\n",
    "nltk.download('words')\n",
    "word_list = words.words()"
   ]
  },
  {
   "cell_type": "markdown",
   "metadata": {
    "papermill": {
     "duration": 0.015919,
     "end_time": "2021-12-07T06:02:01.572063",
     "exception": false,
     "start_time": "2021-12-07T06:02:01.556144",
     "status": "completed"
    },
    "tags": []
   },
   "source": [
    "Then we load another dataset from the NLTK Corpora collection: movie_reviews.\n",
    "\n",
    "The movie reviews are categorized between positive and negative, so we construct a list of words (usually called bag of words) for each category."
   ]
  },
  {
   "cell_type": "code",
   "execution_count": 133,
   "metadata": {
    "execution": {
     "iopub.execute_input": "2021-12-07T06:02:01.608648Z",
     "iopub.status.busy": "2021-12-07T06:02:01.607587Z",
     "iopub.status.idle": "2021-12-07T06:02:06.305611Z",
     "shell.execute_reply": "2021-12-07T06:02:06.304789Z"
    },
    "papermill": {
     "duration": 4.717611,
     "end_time": "2021-12-07T06:02:06.305799",
     "exception": false,
     "start_time": "2021-12-07T06:02:01.588188",
     "status": "completed"
    },
    "tags": []
   },
   "outputs": [
    {
     "name": "stderr",
     "output_type": "stream",
     "text": [
      "[nltk_data] Downloading package movie_reviews to\n",
      "[nltk_data]     C:\\Users\\YBR10\\AppData\\Roaming\\nltk_data...\n",
      "[nltk_data]   Package movie_reviews is already up-to-date!\n"
     ]
    }
   ],
   "source": [
    "from nltk.corpus import movie_reviews\n",
    "nltk.download('movie_reviews')\n",
    "\n",
    "neg_reviews = []\n",
    "pos_reviews = []\n",
    "\n",
    "for fileid in movie_reviews.fileids('neg'):\n",
    "    neg_reviews.extend(movie_reviews.words(fileid))\n",
    "for fileid in movie_reviews.fileids('pos'):\n",
    "    pos_reviews.extend(movie_reviews.words(fileid))"
   ]
  },
  {
   "cell_type": "markdown",
   "metadata": {
    "papermill": {
     "duration": 0.016173,
     "end_time": "2021-12-07T06:02:06.338727",
     "exception": false,
     "start_time": "2021-12-07T06:02:06.322554",
     "status": "completed"
    },
    "tags": []
   },
   "source": [
    "Here we get a data stream (word_list) and 2 query lists (neg_reviews and pos_reviews)."
   ]
  },
  {
   "cell_type": "markdown",
   "metadata": {
    "papermill": {
     "duration": 0.016981,
     "end_time": "2021-12-07T06:02:06.372258",
     "exception": false,
     "start_time": "2021-12-07T06:02:06.355277",
     "status": "completed"
    },
    "tags": []
   },
   "source": [
    "### 1. Write a function that accurately determines whether each word in neg_reviews and pos_reviews belongs to word_list."
   ]
  },
  {
   "cell_type": "code",
   "execution_count": 158,
   "metadata": {
    "execution": {
     "iopub.execute_input": "2021-12-07T06:02:06.410004Z",
     "iopub.status.busy": "2021-12-07T06:02:06.408987Z",
     "iopub.status.idle": "2021-12-07T06:02:06.411435Z",
     "shell.execute_reply": "2021-12-07T06:02:06.411920Z"
    },
    "papermill": {
     "duration": 0.02373,
     "end_time": "2021-12-07T06:02:06.412105",
     "exception": false,
     "start_time": "2021-12-07T06:02:06.388375",
     "status": "completed"
    },
    "tags": []
   },
   "outputs": [
    {
     "name": "stdout",
     "output_type": "stream",
     "text": [
      "832564 600128\n",
      "751256 540998\n"
     ]
    }
   ],
   "source": [
    "def gt_counter(reviews, word_list):\n",
    "    gts = []\n",
    "    for word in reviews:\n",
    "        if word in word_list:\n",
    "            gts.append(True)\n",
    "        else:\n",
    "            gts.append(False)\n",
    "\n",
    "    return gts\n",
    "\n",
    "\n",
    "def accurate_count_reviews(pos_reviews, neg_reviews, word_list):\n",
    "    pos_gts = gt_counter(pos_reviews, word_list)\n",
    "    neg_gts = gt_counter(neg_reviews, word_list)\n",
    "    return pos_gts, neg_gts\n",
    "\n",
    "pos_gts, neg_gts = accurate_count_reviews(pos_reviews, neg_reviews, set(word_list))\n",
    "print(len(pos_gts), sum(pos_gts))\n",
    "print(len(neg_gts), sum(neg_gts))"
   ]
  },
  {
   "cell_type": "markdown",
   "metadata": {
    "papermill": {
     "duration": 0.016948,
     "end_time": "2021-12-07T06:02:06.445306",
     "exception": false,
     "start_time": "2021-12-07T06:02:06.428358",
     "status": "completed"
    },
    "tags": []
   },
   "source": [
    " ### 2. Implement the bloom filter by yourself and add all words in word_list in your bloom filter. Compare the running time difference between linear search on a list and multiple hash computations in a Bloom filter."
   ]
  },
  {
   "cell_type": "code",
   "execution_count": 170,
   "metadata": {
    "execution": {
     "iopub.execute_input": "2021-12-07T06:02:06.481404Z",
     "iopub.status.busy": "2021-12-07T06:02:06.480412Z",
     "iopub.status.idle": "2021-12-07T06:02:06.483982Z",
     "shell.execute_reply": "2021-12-07T06:02:06.484437Z"
    },
    "papermill": {
     "duration": 0.023186,
     "end_time": "2021-12-07T06:02:06.484608",
     "exception": false,
     "start_time": "2021-12-07T06:02:06.461422",
     "status": "completed"
    },
    "tags": []
   },
   "outputs": [],
   "source": [
    "import string    \n",
    "import random\n",
    "import numpy as np\n",
    "\n",
    "STRING_LIB = string.ascii_uppercase + string.ascii_lowercase + string.digits\n",
    "\n",
    "\n",
    "class Hasher():\n",
    "    def __init__(self, n_bits, n_hashes=10, N=20):\n",
    "        self.n_hashes = n_hashes\n",
    "        self.n_bits = n_bits\n",
    "        self.N = N\n",
    "        self.hashes = []\n",
    "        for _ in range(self.n_hashes):\n",
    "            self.hashes.append(''.join(random.choices(STRING_LIB, k = self.N)))\n",
    "\n",
    "    def hash(self, word):\n",
    "        assert self.n_hashes >= 1, \"?\"\n",
    "        hashed = []\n",
    "        for h in self.hashes:\n",
    "            hashed.append(int(hash(h + word) % self.n_bits))\n",
    "\n",
    "        if self.n_hashes > 1:\n",
    "            return hashed\n",
    "        elif self.n_hashes == 1:\n",
    "            return hashed[0]\n",
    "\n",
    "\n",
    "class Bloom():\n",
    "    def __init__(self, database, n_bits=1000000, n_hashes=4):\n",
    "        self.database = database\n",
    "        self.size = len(database)\n",
    "        self.n_bits = n_bits\n",
    "        self.hasher = Hasher(n_bits, n_hashes=n_hashes)\n",
    "        self.hashed_string = np.zeros(self.n_bits, dtype=np.bool8)\n",
    "        for i in range(self.size):\n",
    "            hashed = self.hasher.hash(database[i])\n",
    "            for h in hashed:\n",
    "                self.hashed_string[h] = True\n",
    "        \n",
    "    def sweep(self, word):\n",
    "        hashed_word = self.hasher.hash(word)\n",
    "        for h in hashed_word:\n",
    "            if self.hashed_string[h] != True:\n",
    "                return False\n",
    "        return True\n",
    "\n",
    "    def sweep_all(self, words):\n",
    "        hits = []\n",
    "        for word in words:\n",
    "            if self.sweep(word):\n",
    "                hits.append(True)\n",
    "            else:\n",
    "                hits.append(False)\n",
    "\n",
    "        return hits\n",
    "\n"
   ]
  },
  {
   "cell_type": "code",
   "execution_count": 160,
   "id": "c7ce8ea9",
   "metadata": {},
   "outputs": [
    {
     "name": "stdout",
     "output_type": "stream",
     "text": [
      "Bloom filter time cost: 8.6094s\n"
     ]
    }
   ],
   "source": [
    "bloom = Bloom(word_list)\n",
    "start_time = time.perf_counter()\n",
    "pos_preds = bloom.sweep_all(pos_reviews)\n",
    "neg_preds = bloom.sweep_all(neg_reviews)\n",
    "end_time = time.perf_counter()\n",
    "time_elapsed = (end_time - start_time)\n",
    "\n",
    "print(f'Bloom filter time cost: {time_elapsed:.4f}s')"
   ]
  },
  {
   "cell_type": "code",
   "execution_count": 161,
   "id": "f142da24",
   "metadata": {},
   "outputs": [
    {
     "name": "stdout",
     "output_type": "stream",
     "text": [
      "pos_reviews FPR: 6.05%; neg_previews FPR 5.78%\n"
     ]
    }
   ],
   "source": [
    "def calc_fpr(preds, gts):\n",
    "    fp = 0\n",
    "    tn = 0\n",
    "    for pred, gt in zip(preds, gts):\n",
    "        if not gt:\n",
    "            # not in gt\n",
    "            if not pred:\n",
    "                tn += 1\n",
    "            else:\n",
    "                fp += 1\n",
    "    return fp / (fp + tn)\n",
    "\n",
    "pos_fpr = calc_fpr(pos_preds, pos_gts) * 100\n",
    "neg_fpr = calc_fpr(neg_preds, neg_gts) * 100\n",
    "print(f'pos_reviews FPR: {pos_fpr:.2f}%; neg_previews FPR {neg_fpr:.2f}%')"
   ]
  },
  {
   "cell_type": "markdown",
   "metadata": {
    "papermill": {
     "duration": 0.016671,
     "end_time": "2021-12-07T06:02:06.518034",
     "exception": false,
     "start_time": "2021-12-07T06:02:06.501363",
     "status": "completed"
    },
    "tags": []
   },
   "source": [
    "### 3. Use different bit array length ‘m’ and number of hash functions ‘k’ to implement the bloom filter algorithm. Then compare the impact of different m and k on the false positive rate."
   ]
  },
  {
   "cell_type": "code",
   "execution_count": 165,
   "metadata": {
    "execution": {
     "iopub.execute_input": "2021-12-07T06:02:06.555617Z",
     "iopub.status.busy": "2021-12-07T06:02:06.554723Z",
     "iopub.status.idle": "2021-12-07T06:02:06.557735Z",
     "shell.execute_reply": "2021-12-07T06:02:06.557108Z"
    },
    "papermill": {
     "duration": 0.023551,
     "end_time": "2021-12-07T06:02:06.557871",
     "exception": false,
     "start_time": "2021-12-07T06:02:06.534320",
     "status": "completed"
    },
    "tags": []
   },
   "outputs": [
    {
     "name": "stdout",
     "output_type": "stream",
     "text": [
      "m: 10000; pos_reviews FPR: 100.00%; neg_previews FPR 100.00%\n",
      "m: 50000; pos_reviews FPR: 100.00%; neg_previews FPR 100.00%\n",
      "m: 100000; pos_reviews FPR: 100.00%; neg_previews FPR 100.00%\n",
      "m: 500000; pos_reviews FPR: 55.35%; neg_previews FPR 57.54%\n",
      "m: 1000000; pos_reviews FPR: 24.56%; neg_previews FPR 25.97%\n",
      "m: 5000000; pos_reviews FPR: 0.12%; neg_previews FPR 0.10%\n",
      "m: 10000000; pos_reviews FPR: 0.00%; neg_previews FPR 0.00%\n",
      "k: 2; pos_reviews FPR: 14.14%; neg_previews FPR 14.65%\n",
      "k: 3; pos_reviews FPR: 15.02%; neg_previews FPR 15.72%\n",
      "k: 4; pos_reviews FPR: 7.76%; neg_previews FPR 7.97%\n",
      "k: 6; pos_reviews FPR: 8.38%; neg_previews FPR 8.22%\n",
      "k: 8; pos_reviews FPR: 33.80%; neg_previews FPR 35.10%\n",
      "k: 10; pos_reviews FPR: 34.18%; neg_previews FPR 35.59%\n"
     ]
    },
    {
     "name": "stderr",
     "output_type": "stream",
     "text": [
      "<ipython-input-165-a2f7aa31b5ab>:41: UserWarning: FixedFormatter should only be used together with FixedLocator\n",
      "  ax[1].set_xticklabels(Ks)\n"
     ]
    },
    {
     "data": {
      "text/plain": [
       "<matplotlib.legend.Legend at 0x21fb42e6bb0>"
      ]
     },
     "execution_count": 165,
     "metadata": {},
     "output_type": "execute_result"
    },
    {
     "data": {
      "image/png": "[encoded data removed]",
      "text/plain": [
       "<Figure size 648x288 with 2 Axes>"
      ]
     },
     "metadata": {
      "needs_background": "light"
     },
     "output_type": "display_data"
    }
   ],
   "source": [
    "import matplotlib.pyplot as plt\n",
    "fig, ax = plt.subplots(1, 2, figsize=(9, 4))\n",
    "\n",
    "Ms = [10000, 50000, 100000, 500000, 1000000, 5000000, 10000000]\n",
    "Ks = [2, 3, 4, 6, 8, 10]\n",
    "\n",
    "pos_fprs = []\n",
    "neg_fprs = []\n",
    "for m in Ms:\n",
    "    bloom = Bloom(word_list, n_bits=m)\n",
    "    pos_preds = bloom.sweep_all(pos_reviews)\n",
    "    neg_preds = bloom.sweep_all(neg_reviews)\n",
    "    pos_fpr = calc_fpr(pos_preds, pos_gts) * 100\n",
    "    neg_fpr = calc_fpr(neg_preds, neg_gts) * 100\n",
    "    print(f'm: {m}; pos_reviews FPR: {pos_fpr:.2f}%; neg_previews FPR {neg_fpr:.2f}%')\n",
    "    pos_fprs.append(pos_fpr)\n",
    "    neg_fprs.append(neg_fpr)\n",
    "ax[0].plot(pos_fprs, label='pos_review')\n",
    "ax[0].plot(neg_fprs, label='neg_review')\n",
    "ax[0].set_title('FPR')\n",
    "ax[0].set_xlabel('Choice of m')\n",
    "ax[0].set_xticklabels([])\n",
    "ax[0].set_ylabel('FPR')\n",
    "ax[0].legend()\n",
    "\n",
    "pos_fprs = []\n",
    "neg_fprs = []\n",
    "for k in Ks:\n",
    "    bloom = Bloom(word_list, n_hashes=k)\n",
    "    pos_preds = bloom.sweep_all(pos_reviews)\n",
    "    neg_preds = bloom.sweep_all(neg_reviews)\n",
    "    pos_fpr = calc_fpr(pos_preds, pos_gts) * 100\n",
    "    neg_fpr = calc_fpr(neg_preds, neg_gts) * 100\n",
    "    print(f'k: {k}; pos_reviews FPR: {pos_fpr:.2f}%; neg_previews FPR {neg_fpr:.2f}%')\n",
    "    pos_fprs.append(pos_fpr)\n",
    "    neg_fprs.append(neg_fpr)\n",
    "ax[1].plot(pos_fprs, label='pos_review')\n",
    "ax[1].plot(neg_fprs, label='neg_review')\n",
    "ax[1].set_title('FPR')\n",
    "ax[1].set_xlabel('Choice of k')\n",
    "ax[1].set_xticklabels(Ks)\n",
    "ax[1].set_ylabel('FPR')\n",
    "ax[1].legend()"
   ]
  },
  {
   "cell_type": "markdown",
   "metadata": {
    "papermill": {
     "duration": 0.016085,
     "end_time": "2021-12-07T06:02:06.590608",
     "exception": false,
     "start_time": "2021-12-07T06:02:06.574523",
     "status": "completed"
    },
    "tags": []
   },
   "source": [
    "## **Task3: Statistics Estimation**"
   ]
  },
  {
   "cell_type": "markdown",
   "metadata": {
    "papermill": {
     "duration": 0.016173,
     "end_time": "2021-12-07T06:02:06.623171",
     "exception": false,
     "start_time": "2021-12-07T06:02:06.606998",
     "status": "completed"
    },
    "tags": []
   },
   "source": [
    "Here we use the query stream (neg_reviews) from task 2 to estimate 1) the number of distinct words appeared, and 2)the surprise number of the stream."
   ]
  },
  {
   "cell_type": "markdown",
   "metadata": {
    "papermill": {
     "duration": 0.016175,
     "end_time": "2021-12-07T06:02:06.688114",
     "exception": false,
     "start_time": "2021-12-07T06:02:06.671939",
     "status": "completed"
    },
    "tags": []
   },
   "source": [
    "### 1. \tWrite a function that accurately counts the occurrence times of each word in neg_reviews."
   ]
  },
  {
   "cell_type": "code",
   "execution_count": 174,
   "metadata": {
    "execution": {
     "iopub.execute_input": "2021-12-07T06:02:06.724213Z",
     "iopub.status.busy": "2021-12-07T06:02:06.723528Z",
     "iopub.status.idle": "2021-12-07T06:02:06.727643Z",
     "shell.execute_reply": "2021-12-07T06:02:06.728104Z"
    },
    "papermill": {
     "duration": 0.023883,
     "end_time": "2021-12-07T06:02:06.728280",
     "exception": false,
     "start_time": "2021-12-07T06:02:06.704397",
     "status": "completed"
    },
    "tags": []
   },
   "outputs": [
    {
     "name": "stdout",
     "output_type": "stream",
     "text": [
      "28480\n"
     ]
    }
   ],
   "source": [
    "from collections import Counter\n",
    "neg_word_counts = Counter(neg_reviews)\n",
    "print(len(neg_word_counts.keys()))"
   ]
  },
  {
   "cell_type": "markdown",
   "metadata": {
    "papermill": {
     "duration": 0.016192,
     "end_time": "2021-12-07T06:02:06.761062",
     "exception": false,
     "start_time": "2021-12-07T06:02:06.744870",
     "status": "completed"
    },
    "tags": []
   },
   "source": [
    "### 2. Implement the Flajolet-Martin alg. to estimate the number of distinct words occurred. Try multiple hash functions to improve the estimate."
   ]
  },
  {
   "cell_type": "code",
   "execution_count": 208,
   "metadata": {
    "execution": {
     "iopub.execute_input": "2021-12-07T06:02:06.799077Z",
     "iopub.status.busy": "2021-12-07T06:02:06.798374Z",
     "iopub.status.idle": "2021-12-07T06:02:06.800943Z",
     "shell.execute_reply": "2021-12-07T06:02:06.801435Z"
    },
    "papermill": {
     "duration": 0.024036,
     "end_time": "2021-12-07T06:02:06.801613",
     "exception": false,
     "start_time": "2021-12-07T06:02:06.777577",
     "status": "completed"
    },
    "tags": []
   },
   "outputs": [
    {
     "name": "stdout",
     "output_type": "stream",
     "text": [
      "Sigle hash: 2097152\n",
      "Multi hash: 61440.00\n"
     ]
    }
   ],
   "source": [
    "def flajolet_martin_single_shot(words, hasher):\n",
    "    max_r = 0\n",
    "    for word in words:\n",
    "        hashed = hasher.hash(word)\n",
    "        r = hashed & (-hashed)\n",
    "        if r > max_r:\n",
    "            max_r = r\n",
    "    return max_r\n",
    "\n",
    "\n",
    "def flajolet_martin_multi_hash(words, n_bits, n_hashes, n_groups=4):\n",
    "    hashers = []\n",
    "    for i in range(n_hashes):\n",
    "        hashers.append(Hasher(n_bits, n_hashes=1))\n",
    "    res = []\n",
    "    for h in hashers:\n",
    "        res.append(flajolet_martin_single_shot(words, h))\n",
    "\n",
    "    # mean of medians\n",
    "    step_size = n_hashes // n_groups\n",
    "    medians = []\n",
    "    for i in range(n_groups):\n",
    "        medians.append(np.median(res[i*step_size:(i+1)*step_size]))\n",
    "    \n",
    "    return np.mean(medians)\n",
    "\n",
    "alice_the_hasher = Hasher(2**30, n_hashes=1)\n",
    "sing_res = flajolet_martin_single_shot(neg_reviews, alice_the_hasher)\n",
    "print(f'Sigle hash: {sing_res}')\n",
    "mult_res = flajolet_martin_multi_hash(neg_reviews, 2**30, n_hashes=12)\n",
    "print(f'Multi hash: {mult_res:.2f}')\n",
    "    "
   ]
  },
  {
   "cell_type": "markdown",
   "metadata": {},
   "source": [
    "### 3.Estimate the surpise number with limited memory to store words."
   ]
  },
  {
   "cell_type": "code",
   "execution_count": 227,
   "metadata": {},
   "outputs": [
    {
     "name": "stdout",
     "output_type": "stream",
     "text": [
      "Ground truth: 5896116224.00\n",
      "Pred        : 5870278496.89\n"
     ]
    }
   ],
   "source": [
    "def ams_method(words, n_randvars):\n",
    "    n = len(words)\n",
    "    Xs = np.random.randint(0, n, (n_randvars,))\n",
    "    Xs = set(list(Xs))\n",
    "    counter = defaultdict(int)\n",
    "    appears = defaultdict(int)\n",
    "    for idx, word in enumerate(words):\n",
    "        if idx in Xs:\n",
    "            appears[word] += 1\n",
    "        if word in appears:\n",
    "            counter[word] += appears[word]\n",
    "\n",
    "    return 2 * n * (np.sum(list(counter.values())) / len(Xs)) - n_randvars\n",
    "        \n",
    "\n",
    "gt = np.sum(np.array(list(neg_word_counts.values())).astype(np.float32) ** 2)\n",
    "print(f'Ground truth: {gt:.2f}')\n",
    "pred = ams_method(neg_reviews, 10000)\n",
    "print(f'Pred        : {pred:.2f}')"
   ]
  },
  {
   "cell_type": "code",
   "execution_count": null,
   "id": "955f0845",
   "metadata": {},
   "outputs": [],
   "source": []
  }
 ],
 "metadata": {
  "kernelspec": {
   "display_name": "Python 3",
   "language": "python",
   "name": "python3"
  },
  "language_info": {
   "codemirror_mode": {
    "name": "ipython",
    "version": 3
   },
   "file_extension": ".py",
   "mimetype": "text/x-python",
   "name": "python",
   "nbconvert_exporter": "python",
   "pygments_lexer": "ipython3",
   "version": "3.8.8"
  },
  "papermill": {
   "default_parameters": {},
   "duration": 15.419535,
   "end_time": "2021-12-07T06:02:07.730264",
   "environment_variables": {},
   "exception": null,
   "input_path": "__notebook__.ipynb",
   "output_path": "__notebook__.ipynb",
   "parameters": {},
   "start_time": "2021-12-07T06:01:52.310729",
   "version": "2.3.2"
  }
 },
 "nbformat": 4,
 "nbformat_minor": 5
}
