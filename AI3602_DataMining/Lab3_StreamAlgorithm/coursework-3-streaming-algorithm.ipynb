{
 "cells": [
  {
   "cell_type": "markdown",
   "metadata": {
    "papermill": {
     "duration": 0.016754,
     "end_time": "2021-12-07T06:01:59.224530",
     "exception": false,
     "start_time": "2021-12-07T06:01:59.207776",
     "status": "completed"
    },
    "tags": []
   },
   "source": [
    "# Coursework 3 Streaming Algorithm"
   ]
  },
  {
   "cell_type": "markdown",
   "metadata": {
    "papermill": {
     "duration": 0.017139,
     "end_time": "2021-12-07T06:01:59.258384",
     "exception": false,
     "start_time": "2021-12-07T06:01:59.241245",
     "status": "completed"
    },
    "tags": []
   },
   "source": [
    "## **Task1：DGIM**\n",
    "\n",
    "DGIM is an efficient algorithm in processing large streams. When it's infeasible to store the flowing binary stream, DGIM can estimate the number of 1-bits in the window. In this coding, you're given the stream_data_dgim.txt (binary stream), and you need to implement the DGIM algorithm to count the number of 1-bits. Write code below."
   ]
  },
  {
   "cell_type": "markdown",
   "metadata": {
    "papermill": {
     "duration": 0.019833,
     "end_time": "2021-12-07T06:01:59.296854",
     "exception": false,
     "start_time": "2021-12-07T06:01:59.277021",
     "status": "completed"
    },
    "tags": []
   },
   "source": [
    "### 1. Set the window size to 1000, and count the number of 1-bits in the current window."
   ]
  },
  {
   "cell_type": "code",
   "execution_count": 4,
   "metadata": {
    "execution": {
     "iopub.execute_input": "2021-12-07T06:01:59.338917Z",
     "iopub.status.busy": "2021-12-07T06:01:59.337144Z",
     "iopub.status.idle": "2021-12-07T06:01:59.347546Z",
     "shell.execute_reply": "2021-12-07T06:01:59.348122Z"
    },
    "papermill": {
     "duration": 0.032439,
     "end_time": "2021-12-07T06:01:59.348503",
     "exception": false,
     "start_time": "2021-12-07T06:01:59.316064",
     "status": "completed"
    },
    "tags": []
   },
   "outputs": [
    {
     "name": "stdout",
     "output_type": "stream",
     "text": [
      "0\t0\t1\t0\t1\t0\t1\t1\t1\t0\t1\t0\t0\t0\t0\t1\t1\t0\t0\t1\t1\t0\t0\t0\t1\t0\t0\t1\t0\t0\t1\t1\t0\t1\t0\t0\t0\t0\t0\t0\t0\t0\t1\t0\t0\t1\t1\t0\t1\t0\t\n",
      "80000\n"
     ]
    }
   ],
   "source": [
    "from typing import List\n",
    "\n",
    "class Bucket():\n",
    "    def __init__(self, time_stamp):\n",
    "        self.time_stamp = time_stamp\n",
    "        self.order = 0  # bucket contains (2 ** order) 1's\n",
    "\n",
    "\n",
    "class DGIM():\n",
    "    def __init__(self, window_size):\n",
    "        self.window_size = window_size\n",
    "        self.buckets: List[Bucket] = []\n",
    "        self.ticker = 0\n",
    "\n",
    "    def _step(self):\n",
    "        self.ticker = (self.ticker + 1) % self.window_size\n"
   ]
  },
  {
   "cell_type": "markdown",
   "metadata": {
    "papermill": {
     "duration": 0.015395,
     "end_time": "2021-12-07T06:01:59.380081",
     "exception": false,
     "start_time": "2021-12-07T06:01:59.364686",
     "status": "completed"
    },
    "tags": []
   },
   "source": [
    "### 2. With the window size 1000, count the number of 1-bits in the last 500 and 200 bits of the bitstream."
   ]
  },
  {
   "cell_type": "code",
   "execution_count": 2,
   "metadata": {
    "execution": {
     "iopub.execute_input": "2021-12-07T06:01:59.417980Z",
     "iopub.status.busy": "2021-12-07T06:01:59.417325Z",
     "iopub.status.idle": "2021-12-07T06:01:59.420744Z",
     "shell.execute_reply": "2021-12-07T06:01:59.421295Z"
    },
    "papermill": {
     "duration": 0.02556,
     "end_time": "2021-12-07T06:01:59.421483",
     "exception": false,
     "start_time": "2021-12-07T06:01:59.395923",
     "status": "completed"
    },
    "tags": []
   },
   "outputs": [],
   "source": []
  },
  {
   "cell_type": "markdown",
   "metadata": {
    "papermill": {
     "duration": 0.01553,
     "end_time": "2021-12-07T06:01:59.452974",
     "exception": false,
     "start_time": "2021-12-07T06:01:59.437444",
     "status": "completed"
    },
    "tags": []
   },
   "source": [
    "### 3. Write a function that accurately counts the number of 1-bits in the current window. Caculate the accuracy of your own DGIM algorithm and compare the running time difference."
   ]
  },
  {
   "cell_type": "code",
   "execution_count": 3,
   "metadata": {
    "execution": {
     "iopub.execute_input": "2021-12-07T06:01:59.487896Z",
     "iopub.status.busy": "2021-12-07T06:01:59.487251Z",
     "iopub.status.idle": "2021-12-07T06:01:59.490402Z",
     "shell.execute_reply": "2021-12-07T06:01:59.490914Z"
    },
    "papermill": {
     "duration": 0.022321,
     "end_time": "2021-12-07T06:01:59.491102",
     "exception": false,
     "start_time": "2021-12-07T06:01:59.468781",
     "status": "completed"
    },
    "tags": []
   },
   "outputs": [],
   "source": []
  },
  {
   "cell_type": "markdown",
   "metadata": {
    "papermill": {
     "duration": 0.015507,
     "end_time": "2021-12-07T06:01:59.522321",
     "exception": false,
     "start_time": "2021-12-07T06:01:59.506814",
     "status": "completed"
    },
    "tags": []
   },
   "source": [
    "## **Task2: Bloom Filter**\n",
    "\n",
    "A Bloom filter is a space-efficient probabilistic data structure. Here the task is to implement a bloom filter by yourself. "
   ]
  },
  {
   "cell_type": "markdown",
   "metadata": {
    "papermill": {
     "duration": 0.016544,
     "end_time": "2021-12-07T06:01:59.557915",
     "exception": false,
     "start_time": "2021-12-07T06:01:59.541371",
     "status": "completed"
    },
    "tags": []
   },
   "source": [
    "### Data loading:\n",
    "\n",
    "From the NLTK (Natural Language ToolKit) library, we import a large list of English dictionary words, commonly used by the very first spell-checking programs in Unix-like operating systems."
   ]
  },
  {
   "cell_type": "code",
   "execution_count": 4,
   "metadata": {
    "execution": {
     "iopub.execute_input": "2021-12-07T06:01:59.599213Z",
     "iopub.status.busy": "2021-12-07T06:01:59.598428Z",
     "iopub.status.idle": "2021-12-07T06:02:01.538667Z",
     "shell.execute_reply": "2021-12-07T06:02:01.539256Z"
    },
    "papermill": {
     "duration": 1.962095,
     "end_time": "2021-12-07T06:02:01.539496",
     "exception": false,
     "start_time": "2021-12-07T06:01:59.577401",
     "status": "completed"
    },
    "tags": []
   },
   "outputs": [],
   "source": [
    "import nltk\n",
    "from nltk.corpus import words\n",
    "nltk.download('words')\n",
    "word_list = words.words()"
   ]
  },
  {
   "cell_type": "markdown",
   "metadata": {
    "papermill": {
     "duration": 0.015919,
     "end_time": "2021-12-07T06:02:01.572063",
     "exception": false,
     "start_time": "2021-12-07T06:02:01.556144",
     "status": "completed"
    },
    "tags": []
   },
   "source": [
    "Then we load another dataset from the NLTK Corpora collection: movie_reviews.\n",
    "\n",
    "The movie reviews are categorized between positive and negative, so we construct a list of words (usually called bag of words) for each category."
   ]
  },
  {
   "cell_type": "code",
   "execution_count": 5,
   "metadata": {
    "execution": {
     "iopub.execute_input": "2021-12-07T06:02:01.608648Z",
     "iopub.status.busy": "2021-12-07T06:02:01.607587Z",
     "iopub.status.idle": "2021-12-07T06:02:06.305611Z",
     "shell.execute_reply": "2021-12-07T06:02:06.304789Z"
    },
    "papermill": {
     "duration": 4.717611,
     "end_time": "2021-12-07T06:02:06.305799",
     "exception": false,
     "start_time": "2021-12-07T06:02:01.588188",
     "status": "completed"
    },
    "tags": []
   },
   "outputs": [],
   "source": [
    "from nltk.corpus import movie_reviews\n",
    "nltk.download('movie_reviews')\n",
    "\n",
    "neg_reviews = []\n",
    "pos_reviews = []\n",
    "\n",
    "for fileid in movie_reviews.fileids('neg'):\n",
    "    neg_reviews.extend(movie_reviews.words(fileid))\n",
    "for fileid in movie_reviews.fileids('pos'):\n",
    "    pos_reviews.extend(movie_reviews.words(fileid))"
   ]
  },
  {
   "cell_type": "markdown",
   "metadata": {
    "papermill": {
     "duration": 0.016173,
     "end_time": "2021-12-07T06:02:06.338727",
     "exception": false,
     "start_time": "2021-12-07T06:02:06.322554",
     "status": "completed"
    },
    "tags": []
   },
   "source": [
    "Here we get a data stream (word_list) and 2 query lists (neg_reviews and pos_reviews)."
   ]
  },
  {
   "cell_type": "markdown",
   "metadata": {
    "papermill": {
     "duration": 0.016981,
     "end_time": "2021-12-07T06:02:06.372258",
     "exception": false,
     "start_time": "2021-12-07T06:02:06.355277",
     "status": "completed"
    },
    "tags": []
   },
   "source": [
    "### 1. Write a function that accurately determines whether each word in neg_reviews and pos_reviews belongs to word_list."
   ]
  },
  {
   "cell_type": "code",
   "execution_count": 6,
   "metadata": {
    "execution": {
     "iopub.execute_input": "2021-12-07T06:02:06.410004Z",
     "iopub.status.busy": "2021-12-07T06:02:06.408987Z",
     "iopub.status.idle": "2021-12-07T06:02:06.411435Z",
     "shell.execute_reply": "2021-12-07T06:02:06.411920Z"
    },
    "papermill": {
     "duration": 0.02373,
     "end_time": "2021-12-07T06:02:06.412105",
     "exception": false,
     "start_time": "2021-12-07T06:02:06.388375",
     "status": "completed"
    },
    "tags": []
   },
   "outputs": [],
   "source": []
  },
  {
   "cell_type": "markdown",
   "metadata": {
    "papermill": {
     "duration": 0.016948,
     "end_time": "2021-12-07T06:02:06.445306",
     "exception": false,
     "start_time": "2021-12-07T06:02:06.428358",
     "status": "completed"
    },
    "tags": []
   },
   "source": [
    " ### 2. Implement the bloom filter by yourself and add all words in word_list in your bloom filter. Compare the running time difference between linear search on a list and multiple hash computations in a Bloom filter."
   ]
  },
  {
   "cell_type": "code",
   "execution_count": 7,
   "metadata": {
    "execution": {
     "iopub.execute_input": "2021-12-07T06:02:06.481404Z",
     "iopub.status.busy": "2021-12-07T06:02:06.480412Z",
     "iopub.status.idle": "2021-12-07T06:02:06.483982Z",
     "shell.execute_reply": "2021-12-07T06:02:06.484437Z"
    },
    "papermill": {
     "duration": 0.023186,
     "end_time": "2021-12-07T06:02:06.484608",
     "exception": false,
     "start_time": "2021-12-07T06:02:06.461422",
     "status": "completed"
    },
    "tags": []
   },
   "outputs": [],
   "source": []
  },
  {
   "cell_type": "markdown",
   "metadata": {
    "papermill": {
     "duration": 0.016671,
     "end_time": "2021-12-07T06:02:06.518034",
     "exception": false,
     "start_time": "2021-12-07T06:02:06.501363",
     "status": "completed"
    },
    "tags": []
   },
   "source": [
    "### 3. Use different bit array length ‘m’ and number of hash functions ‘k’ to implement the bloom filter algorithm. Then compare the impact of different m and k on the false positive rate."
   ]
  },
  {
   "cell_type": "code",
   "execution_count": 8,
   "metadata": {
    "execution": {
     "iopub.execute_input": "2021-12-07T06:02:06.555617Z",
     "iopub.status.busy": "2021-12-07T06:02:06.554723Z",
     "iopub.status.idle": "2021-12-07T06:02:06.557735Z",
     "shell.execute_reply": "2021-12-07T06:02:06.557108Z"
    },
    "papermill": {
     "duration": 0.023551,
     "end_time": "2021-12-07T06:02:06.557871",
     "exception": false,
     "start_time": "2021-12-07T06:02:06.534320",
     "status": "completed"
    },
    "tags": []
   },
   "outputs": [],
   "source": []
  },
  {
   "cell_type": "markdown",
   "metadata": {
    "papermill": {
     "duration": 0.016085,
     "end_time": "2021-12-07T06:02:06.590608",
     "exception": false,
     "start_time": "2021-12-07T06:02:06.574523",
     "status": "completed"
    },
    "tags": []
   },
   "source": [
    "## **Task3: Statistics Estimation**"
   ]
  },
  {
   "cell_type": "markdown",
   "metadata": {
    "papermill": {
     "duration": 0.016173,
     "end_time": "2021-12-07T06:02:06.623171",
     "exception": false,
     "start_time": "2021-12-07T06:02:06.606998",
     "status": "completed"
    },
    "tags": []
   },
   "source": [
    "Here we use the query stream (neg_reviews) from task 2 to estimate 1) the number of distinct words appeared, and 2)the surprise number of the stream."
   ]
  },
  {
   "cell_type": "markdown",
   "metadata": {
    "papermill": {
     "duration": 0.016175,
     "end_time": "2021-12-07T06:02:06.688114",
     "exception": false,
     "start_time": "2021-12-07T06:02:06.671939",
     "status": "completed"
    },
    "tags": []
   },
   "source": [
    "### 1. \tWrite a function that accurately counts the occurrence times of each word in neg_reviews."
   ]
  },
  {
   "cell_type": "code",
   "execution_count": 9,
   "metadata": {
    "execution": {
     "iopub.execute_input": "2021-12-07T06:02:06.724213Z",
     "iopub.status.busy": "2021-12-07T06:02:06.723528Z",
     "iopub.status.idle": "2021-12-07T06:02:06.727643Z",
     "shell.execute_reply": "2021-12-07T06:02:06.728104Z"
    },
    "papermill": {
     "duration": 0.023883,
     "end_time": "2021-12-07T06:02:06.728280",
     "exception": false,
     "start_time": "2021-12-07T06:02:06.704397",
     "status": "completed"
    },
    "tags": []
   },
   "outputs": [],
   "source": []
  },
  {
   "cell_type": "markdown",
   "metadata": {
    "papermill": {
     "duration": 0.016192,
     "end_time": "2021-12-07T06:02:06.761062",
     "exception": false,
     "start_time": "2021-12-07T06:02:06.744870",
     "status": "completed"
    },
    "tags": []
   },
   "source": [
    "### 2. Implement the Flajolet-Martin alg. to estimate the number of distinct words occurred. Try multiple hash functions to improve the estimate."
   ]
  },
  {
   "cell_type": "code",
   "execution_count": 10,
   "metadata": {
    "execution": {
     "iopub.execute_input": "2021-12-07T06:02:06.799077Z",
     "iopub.status.busy": "2021-12-07T06:02:06.798374Z",
     "iopub.status.idle": "2021-12-07T06:02:06.800943Z",
     "shell.execute_reply": "2021-12-07T06:02:06.801435Z"
    },
    "papermill": {
     "duration": 0.024036,
     "end_time": "2021-12-07T06:02:06.801613",
     "exception": false,
     "start_time": "2021-12-07T06:02:06.777577",
     "status": "completed"
    },
    "tags": []
   },
   "outputs": [],
   "source": []
  },
  {
   "cell_type": "markdown",
   "metadata": {},
   "source": [
    "### 3.Estimate the surpise number with limited memory to store words."
   ]
  },
  {
   "cell_type": "code",
   "execution_count": null,
   "metadata": {},
   "outputs": [],
   "source": []
  }
 ],
 "metadata": {
  "kernelspec": {
   "display_name": "Python 3",
   "language": "python",
   "name": "python3"
  },
  "language_info": {
   "codemirror_mode": {
    "name": "ipython",
    "version": 3
   },
   "file_extension": ".py",
   "mimetype": "text/x-python",
   "name": "python",
   "nbconvert_exporter": "python",
   "pygments_lexer": "ipython3",
   "version": "3.8.8"
  },
  "papermill": {
   "default_parameters": {},
   "duration": 15.419535,
   "end_time": "2021-12-07T06:02:07.730264",
   "environment_variables": {},
   "exception": null,
   "input_path": "__notebook__.ipynb",
   "output_path": "__notebook__.ipynb",
   "parameters": {},
   "start_time": "2021-12-07T06:01:52.310729",
   "version": "2.3.2"
  }
 },
 "nbformat": 4,
 "nbformat_minor": 5
}
